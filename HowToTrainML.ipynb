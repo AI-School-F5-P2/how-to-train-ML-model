{
 "cells": [
  {
   "cell_type": "markdown",
   "id": "3517a332-436f-4488-a828-2eb9fb2ab802",
   "metadata": {},
   "source": [
    "# Este Notebook es una guía y un ejemplo de cómo se entrena un modelo de Machine learning"
   ]
  },
  {
   "cell_type": "markdown",
   "id": "c38519af-d358-43fb-b253-bccfcad6b141",
   "metadata": {},
   "source": [
    "## Primero, importamos librerías"
   ]
  },
  {
   "cell_type": "code",
   "execution_count": null,
   "id": "3274746a-eb5f-44de-a594-f228e4104588",
   "metadata": {},
   "outputs": [],
   "source": [
    "# Librerías básicas\n",
    "import pandas as pd\n",
    "import numpy as np\n",
    "\n",
    "# Librerías de visualización\n",
    "import matplotlib.pyplot as plt\n",
    "import seaborn as sns\n"
   ]
  }
 ],
 "metadata": {
  "kernelspec": {
   "display_name": "Python 3 (ipykernel)",
   "language": "python",
   "name": "python3"
  },
  "language_info": {
   "codemirror_mode": {
    "name": "ipython",
    "version": 3
   },
   "file_extension": ".py",
   "mimetype": "text/x-python",
   "name": "python",
   "nbconvert_exporter": "python",
   "pygments_lexer": "ipython3",
   "version": "3.11.4"
  }
 },
 "nbformat": 4,
 "nbformat_minor": 5
}
